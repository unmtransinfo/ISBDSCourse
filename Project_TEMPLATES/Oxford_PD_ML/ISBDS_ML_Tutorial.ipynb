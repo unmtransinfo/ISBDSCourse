{
 "cells": [
  {
   "cell_type": "markdown",
   "metadata": {
    "colab_type": "text",
    "id": "view-in-github"
   },
   "source": [
    "<a href=\"https://colab.research.google.com/github/unmtransinfo/ISBDSCourse/blob/main/python/ISBDS_ML_Tutorial.ipynb\" target=\"_parent\"><img src=\"https://colab.research.google.com/assets/colab-badge.svg\" alt=\"Open In Colab\"/></a>"
   ]
  },
  {
   "cell_type": "markdown",
   "metadata": {
    "id": "wLp-XfsS9v1P"
   },
   "source": [
    "<center>Independent Study in Biomedical Data Science (ISBDS), UNM BIOMED 505</center>\n",
    "\n",
    "# Tutorial: Supervised machine learning with Python, Pandas, Matplotlib and Scikit-Learn\n",
    "  * Datasource: [UC Irvine ML Archive](https://archive.ics.uci.edu/)\n",
    "  * Dataset: [Oxford Parkinson's Disease Detection Dataset](https://archive.ics.uci.edu/ml/datasets/Parkinsons)\n",
    "  * Algorithms: Naïve Bayes and Neural Networks"
   ]
  },
  {
   "cell_type": "code",
   "execution_count": null,
   "metadata": {
    "id": "WB4abgtc9eFB"
   },
   "outputs": [],
   "source": [
    "import sys,os,re\n",
    "import urllib.request\n",
    "import pandas as pd\n",
    "import numpy as np\n",
    "import sklearn\n",
    "import sklearn.model_selection\n",
    "import sklearn.metrics\n",
    "import sklearn.naive_bayes\n",
    "import sklearn.neural_network\n",
    "from sklearn.cluster import AgglomerativeClustering # hierarchical, Ward's\n",
    "from scipy.cluster.hierarchy import dendrogram\n",
    "import matplotlib, matplotlib.pyplot as plt"
   ]
  },
  {
   "cell_type": "code",
   "execution_count": null,
   "metadata": {
    "colab": {
     "base_uri": "https://localhost:8080/"
    },
    "id": "n0KP0NDav7pE",
    "outputId": "14e3583d-ba70-4d05-b10d-12d828b904c3"
   },
   "outputs": [],
   "source": [
    "print(f\"Pandas {pd.__version__}; Scikit-learn {sklearn.__version__}; Matplotlib {matplotlib.__version__}\")"
   ]
  },
  {
   "cell_type": "markdown",
   "metadata": {
    "id": "0IfYRLss9r1W"
   },
   "source": [
    "## Function for model performance evaluation:"
   ]
  },
  {
   "cell_type": "code",
   "execution_count": null,
   "metadata": {
    "id": "EpRfUeQ2-Ux9"
   },
   "outputs": [],
   "source": [
    "def print_score(Ytrue, Ypred):\n",
    "  precision = sklearn.metrics.precision_score(Ytrue, Ypred)\n",
    "  recall = sklearn.metrics.recall_score(Ytrue, Ypred)\n",
    "  f1 = sklearn.metrics.f1_score(Ytrue, Ypred)\n",
    "  print(f\"precision: {precision:.2f} ; recall: {recall:.2f} ; F1: {f1:.2f}\")"
   ]
  },
  {
   "cell_type": "markdown",
   "metadata": {
    "id": "1WRZBELQ0W0I"
   },
   "source": [
    "### Plot dendogram function from [Scikit-learn docs](https://scikit-learn.org/stable/auto_examples/cluster/plot_agglomerative_dendrogramhtml#sphx-glr-auto-examples-cluster-plot-agglomerative-dendrogram-py)"
   ]
  },
  {
   "cell_type": "code",
   "execution_count": null,
   "metadata": {
    "id": "CBo7CFLK0IlY"
   },
   "outputs": [],
   "source": [
    "def plot_dendrogram(model, **kwargs):\n",
    "  # Create linkage matrix and then plot the dendrogram, with counts of samples under each node.\n",
    "  counts = np.zeros(model.children_.shape[0])\n",
    "  n_samples = len(model.labels_)\n",
    "  for i, merge in enumerate(model.children_):\n",
    "    current_count = 0\n",
    "    for child_idx in merge:\n",
    "      if child_idx < n_samples:\n",
    "        current_count += 1  # leaf node\n",
    "      else:\n",
    "        current_count += counts[child_idx - n_samples]\n",
    "    counts[i] = current_count\n",
    "  linkage_matrix = np.column_stack([model.children_, model.distances_, counts]).astype(float)\n",
    "  dendrogram(linkage_matrix, **kwargs)"
   ]
  },
  {
   "cell_type": "markdown",
   "metadata": {
    "id": "shr67tJv-sdT"
   },
   "source": [
    "## Read dataset: Oxford Parkinson's Disease Detection Dataset"
   ]
  },
  {
   "cell_type": "code",
   "execution_count": null,
   "metadata": {
    "id": "74nZ-Onz8wSe"
   },
   "outputs": [],
   "source": [
    "pd_df = pd.read_csv(\"https://archive.ics.uci.edu/ml/machine-learning-databases/parkinsons/parkinsons.data\", sep=\",\")"
   ]
  },
  {
   "cell_type": "code",
   "execution_count": null,
   "metadata": {
    "colab": {
     "base_uri": "https://localhost:8080/",
     "height": 241
    },
    "id": "nppJWgJZ-6kQ",
    "outputId": "b5c8a4f8-5c16-4eca-de25-4917e66acdc4"
   },
   "outputs": [],
   "source": [
    "nrows,ncols = pd_df.shape\n",
    "print(f\"dataset ncols: {ncols} ; nrows: {nrows}:\")\n",
    "pd_df.head()"
   ]
  },
  {
   "cell_type": "markdown",
   "metadata": {
    "id": "tuSBbz5w_as3"
   },
   "source": [
    "## Read metadata\n"
   ]
  },
  {
   "cell_type": "code",
   "execution_count": null,
   "metadata": {
    "colab": {
     "base_uri": "https://localhost:8080/"
    },
    "id": "m-OSYP7wMY4O",
    "outputId": "960a0b08-3f3e-4377-dea0-8560e5ad8a2d"
   },
   "outputs": [],
   "source": [
    "metadata = urllib.request.urlopen(\"https://archive.ics.uci.edu/ml/machine-learning-databases/parkinsons/parkinsons.names\").read()\n",
    "print(metadata.decode('utf-8').strip())"
   ]
  },
  {
   "cell_type": "markdown",
   "metadata": {
    "id": "EVckrL25I0U4"
   },
   "source": [
    "## Histogram of Jitter(Abs)"
   ]
  },
  {
   "cell_type": "code",
   "execution_count": null,
   "metadata": {
    "colab": {
     "base_uri": "https://localhost:8080/",
     "height": 295
    },
    "id": "dYQk9r3eImgr",
    "outputId": "1067cbbc-585f-4c6b-a0c0-405d8b74bc7d"
   },
   "outputs": [],
   "source": [
    "tag = \"MDVP:Jitter(Abs)\"\n",
    "n, bins, patches = plt.hist(pd_df[tag], 50, facecolor='#8888FF', alpha=0.75)\n",
    "plt.xlabel(tag)\n",
    "plt.title(f'Histogram of {tag}')\n",
    "plt.grid(True)\n",
    "plt.show()"
   ]
  },
  {
   "cell_type": "markdown",
   "metadata": {
    "id": "AtZx0jXIAAGh"
   },
   "source": [
    "## Separate input variables and class labels into X & Y arrays."
   ]
  },
  {
   "cell_type": "code",
   "execution_count": null,
   "metadata": {
    "id": "ZkeWq-A3AwSR"
   },
   "outputs": [],
   "source": [
    "Y = pd_df[\"status\"]\n",
    "datacols = list(set(pd_df.columns) - set([\"name\", \"status\"]))\n",
    "X = pd_df[datacols]"
   ]
  },
  {
   "cell_type": "markdown",
   "metadata": {
    "id": "kjQzWAnSs9-V"
   },
   "source": [
    "## Cluster using hierarchical Ward's algorithm\n",
    "\n",
    "Clustering a.k.a. unsupervised learning."
   ]
  },
  {
   "cell_type": "code",
   "execution_count": null,
   "metadata": {
    "colab": {
     "base_uri": "https://localhost:8080/"
    },
    "id": "WVUyg8wcuxNQ",
    "outputId": "2a4b8e1a-c204-47f4-adb2-4b2a2ee68075"
   },
   "outputs": [],
   "source": [
    "clus = AgglomerativeClustering(compute_full_tree=True, n_clusters=None, distance_threshold=0)\n",
    "clus.fit(X)\n",
    "print(f\"N: {X.shape[0]}; n_clusters: {clus.n_clusters_}; n_leaves: {clus.n_leaves_}; n_connected_components: {clus.n_connected_components_}\")\n",
    "#clus.distances_"
   ]
  },
  {
   "cell_type": "markdown",
   "metadata": {
    "id": "G1Zw_Mgi_9uW"
   },
   "source": [
    "### Plot the top three levels of the dendrogram"
   ]
  },
  {
   "cell_type": "code",
   "execution_count": null,
   "metadata": {
    "colab": {
     "base_uri": "https://localhost:8080/",
     "height": 298
    },
    "id": "xqYh-RnUznIg",
    "outputId": "21a6b306-5771-4c6c-fb06-16b3a8a746a9"
   },
   "outputs": [],
   "source": [
    "plt.title('Hierarchical Clustering Dendrogram')\n",
    "plot_dendrogram(clus, truncate_mode='level', p=3)\n",
    "plt.xlabel(\"Number of points in node (or index of point if no parenthesis).\")\n",
    "plt.show()"
   ]
  },
  {
   "cell_type": "markdown",
   "metadata": {
    "id": "AJD2lQVrA7Y2"
   },
   "source": [
    "## Create train/test split for supervised ML."
   ]
  },
  {
   "cell_type": "code",
   "execution_count": null,
   "metadata": {
    "colab": {
     "base_uri": "https://localhost:8080/"
    },
    "id": "oQAhG4dYBCsl",
    "outputId": "10fa2d7b-d234-426f-a673-134eb49ee72a"
   },
   "outputs": [],
   "source": [
    "Xtrain,Xtest,Ytrain,Ytest = sklearn.model_selection.train_test_split(X, Y, test_size=.25)\n",
    "print(f\"training set: {Xtrain.shape[0]} ; test set: {Xtest.shape[0]}\")"
   ]
  },
  {
   "cell_type": "markdown",
   "metadata": {
    "id": "7EMo5f6uBIyT"
   },
   "source": [
    "## Naïve Bayes"
   ]
  },
  {
   "cell_type": "code",
   "execution_count": null,
   "metadata": {
    "colab": {
     "base_uri": "https://localhost:8080/",
     "height": 145
    },
    "id": "QaQTUgPQBM83",
    "outputId": "301b50b8-993d-4573-f5d8-9f29a79adba9"
   },
   "outputs": [],
   "source": [
    "nb = sklearn.naive_bayes.GaussianNB() \n",
    "nb.fit(Xtrain, Ytrain)\n",
    "Y_pred = nb.predict(Xtest)\n",
    "conmat = sklearn.metrics.confusion_matrix(Ytest, Y_pred)\n",
    "tn, fp, fn, tp = conmat.ravel()\n",
    "print(f\"TP: {tp} ; TN: {tn} ; FP: {fp} ; FN: {fn}\")\n",
    "print_score(Ytest, Y_pred)\n",
    "pd.DataFrame(conmat, columns=[\"Predicted_Negative\", \"Predicted_Postive\"], index=[\"Negative\", \"Positive\"])"
   ]
  },
  {
   "cell_type": "markdown",
   "metadata": {
    "id": "gwCJVNmsAi1i"
   },
   "source": [
    "## Neural Network"
   ]
  },
  {
   "cell_type": "code",
   "execution_count": null,
   "metadata": {
    "colab": {
     "base_uri": "https://localhost:8080/",
     "height": 199
    },
    "id": "qqggMOyiAG1Q",
    "outputId": "422ed113-5fc0-48ad-e28d-92534c322a10"
   },
   "outputs": [],
   "source": [
    "nn = sklearn.neural_network.MLPClassifier() \n",
    "nn.fit(Xtrain, Ytrain)\n",
    "y_pred = nn.predict(Xtest)\n",
    "conmat = sklearn.metrics.confusion_matrix(Ytest, Y_pred)\n",
    "tn, fp, fn, tp = conmat.ravel()\n",
    "print(f\"TP: {tp} ; TN: {tn} ; FP: {fp} ; FN: {fn}\")\n",
    "print_score(Ytest, Y_pred)\n",
    "pd.DataFrame(conmat, columns=[\"Predicted_Negative\", \"Predicted_Postive\"], index=[\"Negative\", \"Positive\"])"
   ]
  }
 ],
 "metadata": {
  "colab": {
   "include_colab_link": true,
   "name": "ISBDS_ML_Tutorial.ipynb",
   "provenance": []
  },
  "kernelspec": {
   "display_name": "Python [conda env:.conda-jupyter]",
   "language": "python",
   "name": "conda-env-.conda-jupyter-py"
  },
  "language_info": {
   "codemirror_mode": {
    "name": "ipython",
    "version": 3
   },
   "file_extension": ".py",
   "mimetype": "text/x-python",
   "name": "python",
   "nbconvert_exporter": "python",
   "pygments_lexer": "ipython3",
   "version": "3.9.7"
  }
 },
 "nbformat": 4,
 "nbformat_minor": 1
}
