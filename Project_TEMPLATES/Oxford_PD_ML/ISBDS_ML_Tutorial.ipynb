{
 "cells": [
  {
   "cell_type": "markdown",
   "metadata": {
    "colab_type": "text",
    "id": "view-in-github"
   },
   "source": [
    "<a href=\"https://colab.research.google.com/github/unmtransinfo/ISBDSCourse/blob/main/python/ISBDS_ML_Tutorial.ipynb\" target=\"_parent\"><img src=\"https://colab.research.google.com/assets/colab-badge.svg\" alt=\"Open In Colab\"/></a>"
   ]
  },
  {
   "cell_type": "markdown",
   "metadata": {
    "id": "wLp-XfsS9v1P"
   },
   "source": [
    "<center>Independent Study in Biomedical Data Science (ISBDS), UNM BIOMED 505</center>\n",
    "\n",
    "# Tutorial: Supervised machine learning with Python, Pandas, Matplotlib and Scikit-Learn\n",
    "  * Datasource: [UC Irvine ML Archive](https://archive.ics.uci.edu/)\n",
    "  * Dataset: [Oxford Parkinson's Disease Detection Dataset](https://archive.ics.uci.edu/ml/datasets/Parkinsons)\n",
    "  * Algorithms: Naïve Bayes and Neural Networks"
   ]
  },
  {
   "cell_type": "code",
   "execution_count": 1,
   "metadata": {
    "id": "WB4abgtc9eFB"
   },
   "outputs": [],
   "source": [
    "import sys,os,re\n",
    "import urllib.request\n",
    "import pandas as pd\n",
    "import numpy as np\n",
    "import sklearn\n",
    "import sklearn.model_selection\n",
    "import sklearn.metrics\n",
    "import sklearn.naive_bayes\n",
    "import sklearn.neural_network\n",
    "from sklearn.cluster import AgglomerativeClustering # hierarchical, Ward's\n",
    "from scipy.cluster.hierarchy import dendrogram\n",
    "import matplotlib, matplotlib.pyplot as plt"
   ]
  },
  {
   "cell_type": "code",
   "execution_count": 2,
   "metadata": {
    "colab": {
     "base_uri": "https://localhost:8080/"
    },
    "id": "n0KP0NDav7pE",
    "outputId": "14e3583d-ba70-4d05-b10d-12d828b904c3"
   },
   "outputs": [
    {
     "name": "stdout",
     "output_type": "stream",
     "text": [
      "Pandas 1.3.3; Scikit-learn 0.24.2; Matplotlib 3.4.3\n"
     ]
    }
   ],
   "source": [
    "print(f\"Pandas {pd.__version__}; Scikit-learn {sklearn.__version__}; Matplotlib {matplotlib.__version__}\")"
   ]
  },
  {
   "cell_type": "markdown",
   "metadata": {
    "id": "0IfYRLss9r1W"
   },
   "source": [
    "## Function for model performance evaluation:"
   ]
  },
  {
   "cell_type": "code",
   "execution_count": 3,
   "metadata": {
    "id": "EpRfUeQ2-Ux9"
   },
   "outputs": [],
   "source": [
    "def print_score(Ytrue, Ypred):\n",
    "  precision = sklearn.metrics.precision_score(Ytrue, Ypred)\n",
    "  recall = sklearn.metrics.recall_score(Ytrue, Ypred)\n",
    "  f1 = sklearn.metrics.f1_score(Ytrue, Ypred)\n",
    "  print(f\"precision: {precision:.2f} ; recall: {recall:.2f} ; F1: {f1:.2f}\")"
   ]
  },
  {
   "cell_type": "markdown",
   "metadata": {
    "id": "1WRZBELQ0W0I"
   },
   "source": [
    "### Plot dendogram function from [Scikit-learn docs](https://scikit-learn.org/stable/auto_examples/cluster/plot_agglomerative_dendrogramhtml#sphx-glr-auto-examples-cluster-plot-agglomerative-dendrogram-py)"
   ]
  },
  {
   "cell_type": "code",
   "execution_count": 4,
   "metadata": {
    "id": "CBo7CFLK0IlY"
   },
   "outputs": [],
   "source": [
    "def plot_dendrogram(model, **kwargs):\n",
    "  # Create linkage matrix and then plot the dendrogram, with counts of samples under each node.\n",
    "  counts = np.zeros(model.children_.shape[0])\n",
    "  n_samples = len(model.labels_)\n",
    "  for i, merge in enumerate(model.children_):\n",
    "    current_count = 0\n",
    "    for child_idx in merge:\n",
    "      if child_idx < n_samples:\n",
    "        current_count += 1  # leaf node\n",
    "      else:\n",
    "        current_count += counts[child_idx - n_samples]\n",
    "    counts[i] = current_count\n",
    "  linkage_matrix = np.column_stack([model.children_, model.distances_, counts]).astype(float)\n",
    "  dendrogram(linkage_matrix, **kwargs)"
   ]
  },
  {
   "cell_type": "markdown",
   "metadata": {
    "id": "shr67tJv-sdT"
   },
   "source": [
    "## Read dataset: Oxford Parkinson's Disease Detection Dataset"
   ]
  },
  {
   "cell_type": "code",
   "execution_count": 5,
   "metadata": {
    "id": "74nZ-Onz8wSe"
   },
   "outputs": [],
   "source": [
    "pd_df = pd.read_csv(\"https://archive.ics.uci.edu/ml/machine-learning-databases/parkinsons/parkinsons.data\", sep=\",\")"
   ]
  },
  {
   "cell_type": "code",
   "execution_count": 6,
   "metadata": {
    "colab": {
     "base_uri": "https://localhost:8080/",
     "height": 241
    },
    "id": "nppJWgJZ-6kQ",
    "outputId": "b5c8a4f8-5c16-4eca-de25-4917e66acdc4"
   },
   "outputs": [
    {
     "name": "stdout",
     "output_type": "stream",
     "text": [
      "dataset ncols: 24 ; nrows: 195:\n"
     ]
    },
    {
     "data": {
      "text/html": [
       "<div>\n",
       "<style scoped>\n",
       "    .dataframe tbody tr th:only-of-type {\n",
       "        vertical-align: middle;\n",
       "    }\n",
       "\n",
       "    .dataframe tbody tr th {\n",
       "        vertical-align: top;\n",
       "    }\n",
       "\n",
       "    .dataframe thead th {\n",
       "        text-align: right;\n",
       "    }\n",
       "</style>\n",
       "<table border=\"1\" class=\"dataframe\">\n",
       "  <thead>\n",
       "    <tr style=\"text-align: right;\">\n",
       "      <th></th>\n",
       "      <th>name</th>\n",
       "      <th>MDVP:Fo(Hz)</th>\n",
       "      <th>MDVP:Fhi(Hz)</th>\n",
       "      <th>MDVP:Flo(Hz)</th>\n",
       "      <th>MDVP:Jitter(%)</th>\n",
       "      <th>MDVP:Jitter(Abs)</th>\n",
       "      <th>MDVP:RAP</th>\n",
       "      <th>MDVP:PPQ</th>\n",
       "      <th>Jitter:DDP</th>\n",
       "      <th>MDVP:Shimmer</th>\n",
       "      <th>...</th>\n",
       "      <th>Shimmer:DDA</th>\n",
       "      <th>NHR</th>\n",
       "      <th>HNR</th>\n",
       "      <th>status</th>\n",
       "      <th>RPDE</th>\n",
       "      <th>DFA</th>\n",
       "      <th>spread1</th>\n",
       "      <th>spread2</th>\n",
       "      <th>D2</th>\n",
       "      <th>PPE</th>\n",
       "    </tr>\n",
       "  </thead>\n",
       "  <tbody>\n",
       "    <tr>\n",
       "      <th>0</th>\n",
       "      <td>phon_R01_S01_1</td>\n",
       "      <td>119.992</td>\n",
       "      <td>157.302</td>\n",
       "      <td>74.997</td>\n",
       "      <td>0.00784</td>\n",
       "      <td>0.00007</td>\n",
       "      <td>0.00370</td>\n",
       "      <td>0.00554</td>\n",
       "      <td>0.01109</td>\n",
       "      <td>0.04374</td>\n",
       "      <td>...</td>\n",
       "      <td>0.06545</td>\n",
       "      <td>0.02211</td>\n",
       "      <td>21.033</td>\n",
       "      <td>1</td>\n",
       "      <td>0.414783</td>\n",
       "      <td>0.815285</td>\n",
       "      <td>-4.813031</td>\n",
       "      <td>0.266482</td>\n",
       "      <td>2.301442</td>\n",
       "      <td>0.284654</td>\n",
       "    </tr>\n",
       "    <tr>\n",
       "      <th>1</th>\n",
       "      <td>phon_R01_S01_2</td>\n",
       "      <td>122.400</td>\n",
       "      <td>148.650</td>\n",
       "      <td>113.819</td>\n",
       "      <td>0.00968</td>\n",
       "      <td>0.00008</td>\n",
       "      <td>0.00465</td>\n",
       "      <td>0.00696</td>\n",
       "      <td>0.01394</td>\n",
       "      <td>0.06134</td>\n",
       "      <td>...</td>\n",
       "      <td>0.09403</td>\n",
       "      <td>0.01929</td>\n",
       "      <td>19.085</td>\n",
       "      <td>1</td>\n",
       "      <td>0.458359</td>\n",
       "      <td>0.819521</td>\n",
       "      <td>-4.075192</td>\n",
       "      <td>0.335590</td>\n",
       "      <td>2.486855</td>\n",
       "      <td>0.368674</td>\n",
       "    </tr>\n",
       "    <tr>\n",
       "      <th>2</th>\n",
       "      <td>phon_R01_S01_3</td>\n",
       "      <td>116.682</td>\n",
       "      <td>131.111</td>\n",
       "      <td>111.555</td>\n",
       "      <td>0.01050</td>\n",
       "      <td>0.00009</td>\n",
       "      <td>0.00544</td>\n",
       "      <td>0.00781</td>\n",
       "      <td>0.01633</td>\n",
       "      <td>0.05233</td>\n",
       "      <td>...</td>\n",
       "      <td>0.08270</td>\n",
       "      <td>0.01309</td>\n",
       "      <td>20.651</td>\n",
       "      <td>1</td>\n",
       "      <td>0.429895</td>\n",
       "      <td>0.825288</td>\n",
       "      <td>-4.443179</td>\n",
       "      <td>0.311173</td>\n",
       "      <td>2.342259</td>\n",
       "      <td>0.332634</td>\n",
       "    </tr>\n",
       "    <tr>\n",
       "      <th>3</th>\n",
       "      <td>phon_R01_S01_4</td>\n",
       "      <td>116.676</td>\n",
       "      <td>137.871</td>\n",
       "      <td>111.366</td>\n",
       "      <td>0.00997</td>\n",
       "      <td>0.00009</td>\n",
       "      <td>0.00502</td>\n",
       "      <td>0.00698</td>\n",
       "      <td>0.01505</td>\n",
       "      <td>0.05492</td>\n",
       "      <td>...</td>\n",
       "      <td>0.08771</td>\n",
       "      <td>0.01353</td>\n",
       "      <td>20.644</td>\n",
       "      <td>1</td>\n",
       "      <td>0.434969</td>\n",
       "      <td>0.819235</td>\n",
       "      <td>-4.117501</td>\n",
       "      <td>0.334147</td>\n",
       "      <td>2.405554</td>\n",
       "      <td>0.368975</td>\n",
       "    </tr>\n",
       "    <tr>\n",
       "      <th>4</th>\n",
       "      <td>phon_R01_S01_5</td>\n",
       "      <td>116.014</td>\n",
       "      <td>141.781</td>\n",
       "      <td>110.655</td>\n",
       "      <td>0.01284</td>\n",
       "      <td>0.00011</td>\n",
       "      <td>0.00655</td>\n",
       "      <td>0.00908</td>\n",
       "      <td>0.01966</td>\n",
       "      <td>0.06425</td>\n",
       "      <td>...</td>\n",
       "      <td>0.10470</td>\n",
       "      <td>0.01767</td>\n",
       "      <td>19.649</td>\n",
       "      <td>1</td>\n",
       "      <td>0.417356</td>\n",
       "      <td>0.823484</td>\n",
       "      <td>-3.747787</td>\n",
       "      <td>0.234513</td>\n",
       "      <td>2.332180</td>\n",
       "      <td>0.410335</td>\n",
       "    </tr>\n",
       "  </tbody>\n",
       "</table>\n",
       "<p>5 rows × 24 columns</p>\n",
       "</div>"
      ],
      "text/plain": [
       "             name  MDVP:Fo(Hz)  MDVP:Fhi(Hz)  MDVP:Flo(Hz)  MDVP:Jitter(%)  \\\n",
       "0  phon_R01_S01_1      119.992       157.302        74.997         0.00784   \n",
       "1  phon_R01_S01_2      122.400       148.650       113.819         0.00968   \n",
       "2  phon_R01_S01_3      116.682       131.111       111.555         0.01050   \n",
       "3  phon_R01_S01_4      116.676       137.871       111.366         0.00997   \n",
       "4  phon_R01_S01_5      116.014       141.781       110.655         0.01284   \n",
       "\n",
       "   MDVP:Jitter(Abs)  MDVP:RAP  MDVP:PPQ  Jitter:DDP  MDVP:Shimmer  ...  \\\n",
       "0           0.00007   0.00370   0.00554     0.01109       0.04374  ...   \n",
       "1           0.00008   0.00465   0.00696     0.01394       0.06134  ...   \n",
       "2           0.00009   0.00544   0.00781     0.01633       0.05233  ...   \n",
       "3           0.00009   0.00502   0.00698     0.01505       0.05492  ...   \n",
       "4           0.00011   0.00655   0.00908     0.01966       0.06425  ...   \n",
       "\n",
       "   Shimmer:DDA      NHR     HNR  status      RPDE       DFA   spread1  \\\n",
       "0      0.06545  0.02211  21.033       1  0.414783  0.815285 -4.813031   \n",
       "1      0.09403  0.01929  19.085       1  0.458359  0.819521 -4.075192   \n",
       "2      0.08270  0.01309  20.651       1  0.429895  0.825288 -4.443179   \n",
       "3      0.08771  0.01353  20.644       1  0.434969  0.819235 -4.117501   \n",
       "4      0.10470  0.01767  19.649       1  0.417356  0.823484 -3.747787   \n",
       "\n",
       "    spread2        D2       PPE  \n",
       "0  0.266482  2.301442  0.284654  \n",
       "1  0.335590  2.486855  0.368674  \n",
       "2  0.311173  2.342259  0.332634  \n",
       "3  0.334147  2.405554  0.368975  \n",
       "4  0.234513  2.332180  0.410335  \n",
       "\n",
       "[5 rows x 24 columns]"
      ]
     },
     "execution_count": 6,
     "metadata": {},
     "output_type": "execute_result"
    }
   ],
   "source": [
    "nrows,ncols = pd_df.shape\n",
    "print(f\"dataset ncols: {ncols} ; nrows: {nrows}:\")\n",
    "pd_df.head()"
   ]
  },
  {
   "cell_type": "markdown",
   "metadata": {
    "id": "tuSBbz5w_as3"
   },
   "source": [
    "## Read metadata\n"
   ]
  },
  {
   "cell_type": "code",
   "execution_count": 7,
   "metadata": {
    "colab": {
     "base_uri": "https://localhost:8080/"
    },
    "id": "m-OSYP7wMY4O",
    "outputId": "960a0b08-3f3e-4377-dea0-8560e5ad8a2d"
   },
   "outputs": [
    {
     "name": "stdout",
     "output_type": "stream",
     "text": [
      "Title: Parkinsons Disease Data Set\n",
      "\n",
      "Abstract: Oxford Parkinson's Disease Detection Dataset\n",
      "\n",
      "-----------------------------------------------------\t\n",
      "\n",
      "Data Set Characteristics: Multivariate\n",
      "Number of Instances: 197\n",
      "Area: Life\n",
      "Attribute Characteristics: Real\n",
      "Number of Attributes: 23\n",
      "Date Donated: 2008-06-26\n",
      "Associated Tasks: Classification\n",
      "Missing Values? N/A\n",
      "\n",
      "-----------------------------------------------------\t\n",
      "\n",
      "Source:\n",
      "\n",
      "The dataset was created by Max Little of the University of Oxford, in \n",
      "collaboration with the National Centre for Voice and Speech, Denver, \n",
      "Colorado, who recorded the speech signals. The original study published the \n",
      "feature extraction methods for general voice disorders.\n",
      "\n",
      "-----------------------------------------------------\n",
      "\n",
      "Data Set Information:\n",
      "\n",
      "This dataset is composed of a range of biomedical voice measurements from \n",
      "31 people, 23 with Parkinson's disease (PD). Each column in the table is a \n",
      "particular voice measure, and each row corresponds one of 195 voice \n",
      "recording from these individuals (\"name\" column). The main aim of the data \n",
      "is to discriminate healthy people from those with PD, according to \"status\" \n",
      "column which is set to 0 for healthy and 1 for PD.\n",
      "\n",
      "The data is in ASCII CSV format. The rows of the CSV file contain an \n",
      "instance corresponding to one voice recording. There are around six \n",
      "recordings per patient, the name of the patient is identified in the first \n",
      "column.For further information or to pass on comments, please contact Max \n",
      "Little (littlem '@' robots.ox.ac.uk).\n",
      "\n",
      "Further details are contained in the following reference -- if you use this \n",
      "dataset, please cite:\n",
      "Max A. Little, Patrick E. McSharry, Eric J. Hunter, Lorraine O. Ramig (2008), \n",
      "'Suitability of dysphonia measurements for telemonitoring of Parkinson's disease', \n",
      "IEEE Transactions on Biomedical Engineering (to appear).\n",
      "\n",
      "-----------------------------------------------------\n",
      "\n",
      "Attribute Information:\n",
      "\n",
      "Matrix column entries (attributes):\n",
      "name - ASCII subject name and recording number\n",
      "MDVP:Fo(Hz) - Average vocal fundamental frequency\n",
      "MDVP:Fhi(Hz) - Maximum vocal fundamental frequency\n",
      "MDVP:Flo(Hz) - Minimum vocal fundamental frequency\n",
      "MDVP:Jitter(%),MDVP:Jitter(Abs),MDVP:RAP,MDVP:PPQ,Jitter:DDP - Several \n",
      "measures of variation in fundamental frequency\n",
      "MDVP:Shimmer,MDVP:Shimmer(dB),Shimmer:APQ3,Shimmer:APQ5,MDVP:APQ,Shimmer:DDA - Several measures of variation in amplitude\n",
      "NHR,HNR - Two measures of ratio of noise to tonal components in the voice\n",
      "status - Health status of the subject (one) - Parkinson's, (zero) - healthy\n",
      "RPDE,D2 - Two nonlinear dynamical complexity measures\n",
      "DFA - Signal fractal scaling exponent\n",
      "spread1,spread2,PPE - Three nonlinear measures of fundamental frequency variation \n",
      "\n",
      "-----------------------------------------------------\n",
      "\n",
      "Citation Request:\n",
      "\n",
      "If you use this dataset, please cite the following paper: \n",
      "'Exploiting Nonlinear Recurrence and Fractal Scaling Properties for Voice Disorder Detection', \n",
      "Little MA, McSharry PE, Roberts SJ, Costello DAE, Moroz IM. \n",
      "BioMedical Engineering OnLine 2007, 6:23 (26 June 2007)\n"
     ]
    }
   ],
   "source": [
    "metadata = urllib.request.urlopen(\"https://archive.ics.uci.edu/ml/machine-learning-databases/parkinsons/parkinsons.names\").read()\n",
    "print(metadata.decode('utf-8').strip())"
   ]
  },
  {
   "cell_type": "markdown",
   "metadata": {
    "id": "EVckrL25I0U4"
   },
   "source": [
    "## Histogram of Jitter(Abs)"
   ]
  },
  {
   "cell_type": "code",
   "execution_count": 8,
   "metadata": {
    "colab": {
     "base_uri": "https://localhost:8080/",
     "height": 295
    },
    "id": "dYQk9r3eImgr",
    "outputId": "1067cbbc-585f-4c6b-a0c0-405d8b74bc7d"
   },
   "outputs": [
    {
     "data": {
      "image/png": "[encoded data removed]",
      "text/plain": [
       "<Figure size 432x288 with 1 Axes>"
      ]
     },
     "metadata": {
      "needs_background": "light"
     },
     "output_type": "display_data"
    }
   ],
   "source": [
    "tag = \"MDVP:Jitter(Abs)\"\n",
    "n, bins, patches = plt.hist(pd_df[tag], 50, facecolor='#8888FF', alpha=0.75)\n",
    "plt.xlabel(tag)\n",
    "plt.title(f'Histogram of {tag}')\n",
    "plt.grid(True)\n",
    "plt.show()"
   ]
  },
  {
   "cell_type": "markdown",
   "metadata": {
    "id": "AtZx0jXIAAGh"
   },
   "source": [
    "## Separate input variables and class labels into X & Y arrays."
   ]
  },
  {
   "cell_type": "code",
   "execution_count": 9,
   "metadata": {
    "id": "ZkeWq-A3AwSR"
   },
   "outputs": [],
   "source": [
    "Y = pd_df[\"status\"]\n",
    "datacols = list(set(pd_df.columns) - set([\"name\", \"status\"]))\n",
    "X = pd_df[datacols]"
   ]
  },
  {
   "cell_type": "markdown",
   "metadata": {
    "id": "kjQzWAnSs9-V"
   },
   "source": [
    "## Cluster using hierarchical Ward's algorithm\n",
    "\n",
    "Clustering a.k.a. unsupervised learning."
   ]
  },
  {
   "cell_type": "code",
   "execution_count": 10,
   "metadata": {
    "colab": {
     "base_uri": "https://localhost:8080/"
    },
    "id": "WVUyg8wcuxNQ",
    "outputId": "2a4b8e1a-c204-47f4-adb2-4b2a2ee68075"
   },
   "outputs": [
    {
     "name": "stdout",
     "output_type": "stream",
     "text": [
      "N: 195; n_clusters: 195; n_leaves: 195; n_connected_components: 1\n"
     ]
    }
   ],
   "source": [
    "clus = AgglomerativeClustering(compute_full_tree=True, n_clusters=None, distance_threshold=0)\n",
    "clus.fit(X)\n",
    "print(f\"N: {X.shape[0]}; n_clusters: {clus.n_clusters_}; n_leaves: {clus.n_leaves_}; n_connected_components: {clus.n_connected_components_}\")\n",
    "#clus.distances_"
   ]
  },
  {
   "cell_type": "markdown",
   "metadata": {
    "id": "G1Zw_Mgi_9uW"
   },
   "source": [
    "### Plot the top three levels of the dendrogram"
   ]
  },
  {
   "cell_type": "code",
   "execution_count": 11,
   "metadata": {
    "colab": {
     "base_uri": "https://localhost:8080/",
     "height": 298
    },
    "id": "xqYh-RnUznIg",
    "outputId": "21a6b306-5771-4c6c-fb06-16b3a8a746a9"
   },
   "outputs": [
    {
     "data": {
      "image/png": "[encoded data removed]",
      "text/plain": [
       "<Figure size 432x288 with 1 Axes>"
      ]
     },
     "metadata": {
      "needs_background": "light"
     },
     "output_type": "display_data"
    }
   ],
   "source": [
    "plt.title('Hierarchical Clustering Dendrogram')\n",
    "plot_dendrogram(clus, truncate_mode='level', p=3)\n",
    "plt.xlabel(\"Number of points in node (or index of point if no parenthesis).\")\n",
    "plt.show()"
   ]
  },
  {
   "cell_type": "markdown",
   "metadata": {
    "id": "AJD2lQVrA7Y2"
   },
   "source": [
    "## Create train/test split for supervised ML."
   ]
  },
  {
   "cell_type": "code",
   "execution_count": 12,
   "metadata": {
    "colab": {
     "base_uri": "https://localhost:8080/"
    },
    "id": "oQAhG4dYBCsl",
    "outputId": "10fa2d7b-d234-426f-a673-134eb49ee72a"
   },
   "outputs": [
    {
     "name": "stdout",
     "output_type": "stream",
     "text": [
      "training set: 146 ; test set: 49\n"
     ]
    }
   ],
   "source": [
    "Xtrain,Xtest,Ytrain,Ytest = sklearn.model_selection.train_test_split(X, Y, test_size=.25)\n",
    "print(f\"training set: {Xtrain.shape[0]} ; test set: {Xtest.shape[0]}\")"
   ]
  },
  {
   "cell_type": "markdown",
   "metadata": {
    "id": "7EMo5f6uBIyT"
   },
   "source": [
    "## Naïve Bayes"
   ]
  },
  {
   "cell_type": "code",
   "execution_count": 13,
   "metadata": {
    "colab": {
     "base_uri": "https://localhost:8080/",
     "height": 145
    },
    "id": "QaQTUgPQBM83",
    "outputId": "301b50b8-993d-4573-f5d8-9f29a79adba9"
   },
   "outputs": [
    {
     "name": "stdout",
     "output_type": "stream",
     "text": [
      "TP: 23 ; TN: 16 ; FP: 0 ; FN: 10\n",
      "precision: 1.00 ; recall: 0.70 ; F1: 0.82\n"
     ]
    },
    {
     "data": {
      "text/html": [
       "<div>\n",
       "<style scoped>\n",
       "    .dataframe tbody tr th:only-of-type {\n",
       "        vertical-align: middle;\n",
       "    }\n",
       "\n",
       "    .dataframe tbody tr th {\n",
       "        vertical-align: top;\n",
       "    }\n",
       "\n",
       "    .dataframe thead th {\n",
       "        text-align: right;\n",
       "    }\n",
       "</style>\n",
       "<table border=\"1\" class=\"dataframe\">\n",
       "  <thead>\n",
       "    <tr style=\"text-align: right;\">\n",
       "      <th></th>\n",
       "      <th>Predicted_Negative</th>\n",
       "      <th>Predicted_Postive</th>\n",
       "    </tr>\n",
       "  </thead>\n",
       "  <tbody>\n",
       "    <tr>\n",
       "      <th>Negative</th>\n",
       "      <td>16</td>\n",
       "      <td>0</td>\n",
       "    </tr>\n",
       "    <tr>\n",
       "      <th>Positive</th>\n",
       "      <td>10</td>\n",
       "      <td>23</td>\n",
       "    </tr>\n",
       "  </tbody>\n",
       "</table>\n",
       "</div>"
      ],
      "text/plain": [
       "          Predicted_Negative  Predicted_Postive\n",
       "Negative                  16                  0\n",
       "Positive                  10                 23"
      ]
     },
     "execution_count": 13,
     "metadata": {},
     "output_type": "execute_result"
    }
   ],
   "source": [
    "nb = sklearn.naive_bayes.GaussianNB() \n",
    "nb.fit(Xtrain, Ytrain)\n",
    "Y_pred = nb.predict(Xtest)\n",
    "conmat = sklearn.metrics.confusion_matrix(Ytest, Y_pred)\n",
    "tn, fp, fn, tp = conmat.ravel()\n",
    "print(f\"TP: {tp} ; TN: {tn} ; FP: {fp} ; FN: {fn}\")\n",
    "print_score(Ytest, Y_pred)\n",
    "pd.DataFrame(conmat, columns=[\"Predicted_Negative\", \"Predicted_Postive\"], index=[\"Negative\", \"Positive\"])"
   ]
  },
  {
   "cell_type": "markdown",
   "metadata": {
    "id": "gwCJVNmsAi1i"
   },
   "source": [
    "## Neural Network"
   ]
  },
  {
   "cell_type": "code",
   "execution_count": 14,
   "metadata": {
    "colab": {
     "base_uri": "https://localhost:8080/",
     "height": 199
    },
    "id": "qqggMOyiAG1Q",
    "outputId": "422ed113-5fc0-48ad-e28d-92534c322a10"
   },
   "outputs": [
    {
     "name": "stdout",
     "output_type": "stream",
     "text": [
      "TP: 23 ; TN: 16 ; FP: 0 ; FN: 10\n",
      "precision: 1.00 ; recall: 0.70 ; F1: 0.82\n"
     ]
    },
    {
     "data": {
      "text/html": [
       "<div>\n",
       "<style scoped>\n",
       "    .dataframe tbody tr th:only-of-type {\n",
       "        vertical-align: middle;\n",
       "    }\n",
       "\n",
       "    .dataframe tbody tr th {\n",
       "        vertical-align: top;\n",
       "    }\n",
       "\n",
       "    .dataframe thead th {\n",
       "        text-align: right;\n",
       "    }\n",
       "</style>\n",
       "<table border=\"1\" class=\"dataframe\">\n",
       "  <thead>\n",
       "    <tr style=\"text-align: right;\">\n",
       "      <th></th>\n",
       "      <th>Predicted_Negative</th>\n",
       "      <th>Predicted_Postive</th>\n",
       "    </tr>\n",
       "  </thead>\n",
       "  <tbody>\n",
       "    <tr>\n",
       "      <th>Negative</th>\n",
       "      <td>16</td>\n",
       "      <td>0</td>\n",
       "    </tr>\n",
       "    <tr>\n",
       "      <th>Positive</th>\n",
       "      <td>10</td>\n",
       "      <td>23</td>\n",
       "    </tr>\n",
       "  </tbody>\n",
       "</table>\n",
       "</div>"
      ],
      "text/plain": [
       "          Predicted_Negative  Predicted_Postive\n",
       "Negative                  16                  0\n",
       "Positive                  10                 23"
      ]
     },
     "execution_count": 14,
     "metadata": {},
     "output_type": "execute_result"
    }
   ],
   "source": [
    "nn = sklearn.neural_network.MLPClassifier() \n",
    "nn.fit(Xtrain, Ytrain)\n",
    "y_pred = nn.predict(Xtest)\n",
    "conmat = sklearn.metrics.confusion_matrix(Ytest, Y_pred)\n",
    "tn, fp, fn, tp = conmat.ravel()\n",
    "print(f\"TP: {tp} ; TN: {tn} ; FP: {fp} ; FN: {fn}\")\n",
    "print_score(Ytest, Y_pred)\n",
    "pd.DataFrame(conmat, columns=[\"Predicted_Negative\", \"Predicted_Postive\"], index=[\"Negative\", \"Positive\"])"
   ]
  }
 ],
 "metadata": {
  "colab": {
   "include_colab_link": true,
   "name": "ISBDS_ML_Tutorial.ipynb",
   "provenance": []
  },
  "kernelspec": {
   "display_name": "Python [conda env:.conda-jupyter]",
   "language": "python",
   "name": "conda-env-.conda-jupyter-py"
  },
  "language_info": {
   "codemirror_mode": {
    "name": "ipython",
    "version": 3
   },
   "file_extension": ".py",
   "mimetype": "text/x-python",
   "name": "python",
   "nbconvert_exporter": "python",
   "pygments_lexer": "ipython3",
   "version": "3.9.7"
  }
 },
 "nbformat": 4,
 "nbformat_minor": 1
}
